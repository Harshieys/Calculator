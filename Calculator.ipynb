{
 "cells": [
  {
   "cell_type": "code",
   "execution_count": 1,
   "metadata": {},
   "outputs": [
    {
     "name": "stdout",
     "output_type": "stream",
     "text": [
      "Calculator.\n",
      "1. Addition \n",
      "2. Substraction \n",
      "3. Multiplication \n",
      "4. Division \n",
      "5. Modulus \n",
      "6. Sin \n",
      "7. Cos \n",
      "8. Tan \n",
      "\n"
     ]
    },
    {
     "name": "stdin",
     "output_type": "stream",
     "text": [
      "Enter Your Choice: 1\n"
     ]
    },
    {
     "name": "stdout",
     "output_type": "stream",
     "text": [
      "Enter 2 numbers:\n"
     ]
    },
    {
     "name": "stdin",
     "output_type": "stream",
     "text": [
      "Num 1: 34\n",
      "Num 2: 45\n"
     ]
    },
    {
     "name": "stdout",
     "output_type": "stream",
     "text": [
      "34.0 + 45.0 = 79.0\n"
     ]
    }
   ],
   "source": [
    "import math\n",
    "print(\"Calculator.\")\n",
    "print(\"1. Addition \\n2. Substraction \\n3. Multiplication \\n4. Division \\n5. Modulus \\n6. Sin \\n7. Cos \\n8. Tan \\n\")\n",
    "n=int(input(\"Enter Your Choice:\"))\n",
    "if(n==1 or n==2 or n==3 or n==4 or n==5):\n",
    "    print(\"Enter 2 numbers:\")\n",
    "    n1=float(input(\"Num 1:\"))\n",
    "    n2=float(input(\"Num 2:\"))\n",
    "    if(n==1):\n",
    "        sum=n1+n2\n",
    "        print(n1,\"+\",n2,\"=\",sum)\n",
    "    elif(n==2):\n",
    "        sub=n1-n2\n",
    "        print(n1,\"-\",n2,\"=\",sub)\n",
    "    elif(n==3):\n",
    "        mul=n1*n2\n",
    "        print(n1,\"x\",n2,\"=\",mul)\n",
    "    elif(n==4):\n",
    "        div=n1/n2\n",
    "        print(n1,\"/\",n2,\"=\",div)\n",
    "    else:\n",
    "        modu=n1%n2\n",
    "        print(n1,\"%\",n2,\"=\",mod)\n",
    "else:\n",
    "    n1=float(input(\"Num:\"))\n",
    "    if(n==6):\n",
    "        val=math.sin(n1)\n",
    "        print(\"Sin(\",n1,\")=\",val)\n",
    "    elif(n==7):\n",
    "        val=math.cos(n1)\n",
    "        print(\"Cos(\",n1,\")=\",val)\n",
    "    else:\n",
    "        val=math.tan(n1)\n",
    "        print(\"Tan(\",n1,\")=\",val)"
   ]
  },
  {
   "cell_type": "code",
   "execution_count": null,
   "metadata": {},
   "outputs": [],
   "source": []
  }
 ],
 "metadata": {
  "kernelspec": {
   "display_name": "Python 3",
   "language": "python",
   "name": "python3"
  },
  "language_info": {
   "codemirror_mode": {
    "name": "ipython",
    "version": 3
   },
   "file_extension": ".py",
   "mimetype": "text/x-python",
   "name": "python",
   "nbconvert_exporter": "python",
   "pygments_lexer": "ipython3",
   "version": "3.7.3"
  }
 },
 "nbformat": 4,
 "nbformat_minor": 2
}
